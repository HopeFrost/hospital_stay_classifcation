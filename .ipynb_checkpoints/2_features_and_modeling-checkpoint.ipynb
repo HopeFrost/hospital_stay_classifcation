{
 "cells": [
  {
   "cell_type": "markdown",
   "id": "cefcf230",
   "metadata": {},
   "source": [
    "In this notebook you will find feature engineering, preprocessing, and modeling.\n",
    "I have kept enough of the cleaning code to be followed, but if you'd like the step by step process or to see my EDA please refer to 1_cleaning_and_EDA.ipynb\n",
    "\n",
    "\n",
    "#### Feature Engineering\n",
    "* Split Test and Train\n",
    "* Define New Feature\n",
    "    - Count Features\n",
    "    - Feature by Feature\n",
    "    - Total Admission Fees\n",
    "    - Traveled Feature\n",
    "* Add Features to Datasets\n",
    "\n",
    "#### Preprocessing and Modeling\n",
    "* One Hot Encode\n",
    "* Encode Labels\n",
    "* Random Forest\n"
   ]
  },
  {
   "cell_type": "code",
   "execution_count": 1,
   "id": "9493ae62",
   "metadata": {},
   "outputs": [],
   "source": [
    "# Importing basics libraries\n",
    "import pandas as pd\n",
    "import numpy as np\n",
    "import matplotlib.pyplot as plt\n",
    "import seaborn as sns\n",
    "\n",
    "from sklearn.ensemble import RandomForestClassifier\n",
    "from sklearn.preprocessing import LabelEncoder\n",
    "from sklearn.model_selection import train_test_split, RandomizedSearchCV\n",
    "from sklearn.pipeline import Pipeline\n",
    "from sklearn.metrics import classification_report\n"
   ]
  },
  {
   "cell_type": "code",
   "execution_count": 2,
   "id": "875999d9",
   "metadata": {},
   "outputs": [
    {
     "data": {
      "text/html": [
       "<div>\n",
       "<style scoped>\n",
       "    .dataframe tbody tr th:only-of-type {\n",
       "        vertical-align: middle;\n",
       "    }\n",
       "\n",
       "    .dataframe tbody tr th {\n",
       "        vertical-align: top;\n",
       "    }\n",
       "\n",
       "    .dataframe thead th {\n",
       "        text-align: right;\n",
       "    }\n",
       "</style>\n",
       "<table border=\"1\" class=\"dataframe\">\n",
       "  <thead>\n",
       "    <tr style=\"text-align: right;\">\n",
       "      <th></th>\n",
       "      <th>case_id</th>\n",
       "      <th>Hospital_code</th>\n",
       "      <th>Hospital_type_code</th>\n",
       "      <th>City_Code_Hospital</th>\n",
       "      <th>Hospital_region_code</th>\n",
       "      <th>Available Extra Rooms in Hospital</th>\n",
       "      <th>Department</th>\n",
       "      <th>Ward_Type</th>\n",
       "      <th>Ward_Facility_Code</th>\n",
       "      <th>Bed Grade</th>\n",
       "      <th>patientid</th>\n",
       "      <th>City_Code_Patient</th>\n",
       "      <th>Type of Admission</th>\n",
       "      <th>Severity of Illness</th>\n",
       "      <th>Visitors with Patient</th>\n",
       "      <th>Age</th>\n",
       "      <th>Admission_Deposit</th>\n",
       "      <th>Stay</th>\n",
       "    </tr>\n",
       "  </thead>\n",
       "  <tbody>\n",
       "    <tr>\n",
       "      <th>0</th>\n",
       "      <td>1</td>\n",
       "      <td>8</td>\n",
       "      <td>c</td>\n",
       "      <td>3</td>\n",
       "      <td>Z</td>\n",
       "      <td>3</td>\n",
       "      <td>radiotherapy</td>\n",
       "      <td>R</td>\n",
       "      <td>F</td>\n",
       "      <td>2.0</td>\n",
       "      <td>31397</td>\n",
       "      <td>7.0</td>\n",
       "      <td>Emergency</td>\n",
       "      <td>Extreme</td>\n",
       "      <td>2</td>\n",
       "      <td>51-60</td>\n",
       "      <td>4911.0</td>\n",
       "      <td>0-10</td>\n",
       "    </tr>\n",
       "    <tr>\n",
       "      <th>1</th>\n",
       "      <td>2</td>\n",
       "      <td>2</td>\n",
       "      <td>c</td>\n",
       "      <td>5</td>\n",
       "      <td>Z</td>\n",
       "      <td>2</td>\n",
       "      <td>radiotherapy</td>\n",
       "      <td>S</td>\n",
       "      <td>F</td>\n",
       "      <td>2.0</td>\n",
       "      <td>31397</td>\n",
       "      <td>7.0</td>\n",
       "      <td>Trauma</td>\n",
       "      <td>Extreme</td>\n",
       "      <td>2</td>\n",
       "      <td>51-60</td>\n",
       "      <td>5954.0</td>\n",
       "      <td>41-50</td>\n",
       "    </tr>\n",
       "    <tr>\n",
       "      <th>2</th>\n",
       "      <td>3</td>\n",
       "      <td>10</td>\n",
       "      <td>e</td>\n",
       "      <td>1</td>\n",
       "      <td>X</td>\n",
       "      <td>2</td>\n",
       "      <td>anesthesia</td>\n",
       "      <td>S</td>\n",
       "      <td>E</td>\n",
       "      <td>2.0</td>\n",
       "      <td>31397</td>\n",
       "      <td>7.0</td>\n",
       "      <td>Trauma</td>\n",
       "      <td>Extreme</td>\n",
       "      <td>2</td>\n",
       "      <td>51-60</td>\n",
       "      <td>4745.0</td>\n",
       "      <td>31-40</td>\n",
       "    </tr>\n",
       "    <tr>\n",
       "      <th>3</th>\n",
       "      <td>4</td>\n",
       "      <td>26</td>\n",
       "      <td>b</td>\n",
       "      <td>2</td>\n",
       "      <td>Y</td>\n",
       "      <td>2</td>\n",
       "      <td>radiotherapy</td>\n",
       "      <td>R</td>\n",
       "      <td>D</td>\n",
       "      <td>2.0</td>\n",
       "      <td>31397</td>\n",
       "      <td>7.0</td>\n",
       "      <td>Trauma</td>\n",
       "      <td>Extreme</td>\n",
       "      <td>2</td>\n",
       "      <td>51-60</td>\n",
       "      <td>7272.0</td>\n",
       "      <td>41-50</td>\n",
       "    </tr>\n",
       "    <tr>\n",
       "      <th>4</th>\n",
       "      <td>5</td>\n",
       "      <td>26</td>\n",
       "      <td>b</td>\n",
       "      <td>2</td>\n",
       "      <td>Y</td>\n",
       "      <td>2</td>\n",
       "      <td>radiotherapy</td>\n",
       "      <td>S</td>\n",
       "      <td>D</td>\n",
       "      <td>2.0</td>\n",
       "      <td>31397</td>\n",
       "      <td>7.0</td>\n",
       "      <td>Trauma</td>\n",
       "      <td>Extreme</td>\n",
       "      <td>2</td>\n",
       "      <td>51-60</td>\n",
       "      <td>5558.0</td>\n",
       "      <td>41-50</td>\n",
       "    </tr>\n",
       "  </tbody>\n",
       "</table>\n",
       "</div>"
      ],
      "text/plain": [
       "   case_id  Hospital_code Hospital_type_code  City_Code_Hospital  \\\n",
       "0        1              8                  c                   3   \n",
       "1        2              2                  c                   5   \n",
       "2        3             10                  e                   1   \n",
       "3        4             26                  b                   2   \n",
       "4        5             26                  b                   2   \n",
       "\n",
       "  Hospital_region_code  Available Extra Rooms in Hospital    Department  \\\n",
       "0                    Z                                  3  radiotherapy   \n",
       "1                    Z                                  2  radiotherapy   \n",
       "2                    X                                  2    anesthesia   \n",
       "3                    Y                                  2  radiotherapy   \n",
       "4                    Y                                  2  radiotherapy   \n",
       "\n",
       "  Ward_Type Ward_Facility_Code  Bed Grade  patientid  City_Code_Patient  \\\n",
       "0         R                  F        2.0      31397                7.0   \n",
       "1         S                  F        2.0      31397                7.0   \n",
       "2         S                  E        2.0      31397                7.0   \n",
       "3         R                  D        2.0      31397                7.0   \n",
       "4         S                  D        2.0      31397                7.0   \n",
       "\n",
       "  Type of Admission Severity of Illness  Visitors with Patient    Age  \\\n",
       "0         Emergency             Extreme                      2  51-60   \n",
       "1            Trauma             Extreme                      2  51-60   \n",
       "2            Trauma             Extreme                      2  51-60   \n",
       "3            Trauma             Extreme                      2  51-60   \n",
       "4            Trauma             Extreme                      2  51-60   \n",
       "\n",
       "   Admission_Deposit   Stay  \n",
       "0             4911.0   0-10  \n",
       "1             5954.0  41-50  \n",
       "2             4745.0  31-40  \n",
       "3             7272.0  41-50  \n",
       "4             5558.0  41-50  "
      ]
     },
     "execution_count": 2,
     "metadata": {},
     "output_type": "execute_result"
    }
   ],
   "source": [
    "# Importing data\n",
    "stay_df = pd.read_csv('data/train_data.csv')\n",
    "stay_test_df = pd.read_csv('data/test_data.csv')\n",
    "stay_df.head()"
   ]
  },
  {
   "cell_type": "code",
   "execution_count": 3,
   "id": "49099b64",
   "metadata": {},
   "outputs": [
    {
     "name": "stdout",
     "output_type": "stream",
     "text": [
      "(318438, 18) (137057, 17)\n"
     ]
    },
    {
     "data": {
      "text/plain": [
       "array(['0-10', '41-50', '31-40', '11-20', '51-60', '21-30', '71-80',\n",
       "       'More than 100 Days', '81-90', '61-70', '91-100'], dtype=object)"
      ]
     },
     "execution_count": 3,
     "metadata": {},
     "output_type": "execute_result"
    }
   ],
   "source": [
    "print(stay_df.shape, stay_test_df.shape)\n",
    "stay_df.Stay.unique()"
   ]
  },
  {
   "cell_type": "code",
   "execution_count": 4,
   "id": "ee421b08",
   "metadata": {},
   "outputs": [
    {
     "name": "stdout",
     "output_type": "stream",
     "text": [
      "<class 'pandas.core.frame.DataFrame'>\n",
      "RangeIndex: 318438 entries, 0 to 318437\n",
      "Data columns (total 18 columns):\n",
      " #   Column                             Non-Null Count   Dtype  \n",
      "---  ------                             --------------   -----  \n",
      " 0   case_id                            318438 non-null  int64  \n",
      " 1   Hospital_code                      318438 non-null  int64  \n",
      " 2   Hospital_type_code                 318438 non-null  object \n",
      " 3   City_Code_Hospital                 318438 non-null  int64  \n",
      " 4   Hospital_region_code               318438 non-null  object \n",
      " 5   Available Extra Rooms in Hospital  318438 non-null  int64  \n",
      " 6   Department                         318438 non-null  object \n",
      " 7   Ward_Type                          318438 non-null  object \n",
      " 8   Ward_Facility_Code                 318438 non-null  object \n",
      " 9   Bed Grade                          318325 non-null  float64\n",
      " 10  patientid                          318438 non-null  int64  \n",
      " 11  City_Code_Patient                  313906 non-null  float64\n",
      " 12  Type of Admission                  318438 non-null  object \n",
      " 13  Severity of Illness                318438 non-null  object \n",
      " 14  Visitors with Patient              318438 non-null  int64  \n",
      " 15  Age                                318438 non-null  object \n",
      " 16  Admission_Deposit                  318438 non-null  float64\n",
      " 17  Stay                               318438 non-null  object \n",
      "dtypes: float64(3), int64(6), object(9)\n",
      "memory usage: 43.7+ MB\n"
     ]
    }
   ],
   "source": [
    "stay_df.info()"
   ]
  },
  {
   "cell_type": "code",
   "execution_count": 5,
   "id": "c102e0dc",
   "metadata": {},
   "outputs": [
    {
     "data": {
      "text/html": [
       "<div>\n",
       "<style scoped>\n",
       "    .dataframe tbody tr th:only-of-type {\n",
       "        vertical-align: middle;\n",
       "    }\n",
       "\n",
       "    .dataframe tbody tr th {\n",
       "        vertical-align: top;\n",
       "    }\n",
       "\n",
       "    .dataframe thead th {\n",
       "        text-align: right;\n",
       "    }\n",
       "</style>\n",
       "<table border=\"1\" class=\"dataframe\">\n",
       "  <thead>\n",
       "    <tr style=\"text-align: right;\">\n",
       "      <th></th>\n",
       "      <th>Available Extra Rooms in Hospital</th>\n",
       "      <th>Visitors with Patient</th>\n",
       "      <th>Admission_Deposit</th>\n",
       "    </tr>\n",
       "  </thead>\n",
       "  <tbody>\n",
       "    <tr>\n",
       "      <th>count</th>\n",
       "      <td>318438.000000</td>\n",
       "      <td>318438.000000</td>\n",
       "      <td>318438.000000</td>\n",
       "    </tr>\n",
       "    <tr>\n",
       "      <th>mean</th>\n",
       "      <td>3.197627</td>\n",
       "      <td>3.284099</td>\n",
       "      <td>4880.749392</td>\n",
       "    </tr>\n",
       "    <tr>\n",
       "      <th>std</th>\n",
       "      <td>1.168171</td>\n",
       "      <td>1.764061</td>\n",
       "      <td>1086.776254</td>\n",
       "    </tr>\n",
       "    <tr>\n",
       "      <th>min</th>\n",
       "      <td>0.000000</td>\n",
       "      <td>0.000000</td>\n",
       "      <td>1800.000000</td>\n",
       "    </tr>\n",
       "    <tr>\n",
       "      <th>25%</th>\n",
       "      <td>2.000000</td>\n",
       "      <td>2.000000</td>\n",
       "      <td>4186.000000</td>\n",
       "    </tr>\n",
       "    <tr>\n",
       "      <th>50%</th>\n",
       "      <td>3.000000</td>\n",
       "      <td>3.000000</td>\n",
       "      <td>4741.000000</td>\n",
       "    </tr>\n",
       "    <tr>\n",
       "      <th>75%</th>\n",
       "      <td>4.000000</td>\n",
       "      <td>4.000000</td>\n",
       "      <td>5409.000000</td>\n",
       "    </tr>\n",
       "    <tr>\n",
       "      <th>max</th>\n",
       "      <td>24.000000</td>\n",
       "      <td>32.000000</td>\n",
       "      <td>11008.000000</td>\n",
       "    </tr>\n",
       "  </tbody>\n",
       "</table>\n",
       "</div>"
      ],
      "text/plain": [
       "       Available Extra Rooms in Hospital  Visitors with Patient  \\\n",
       "count                      318438.000000          318438.000000   \n",
       "mean                            3.197627               3.284099   \n",
       "std                             1.168171               1.764061   \n",
       "min                             0.000000               0.000000   \n",
       "25%                             2.000000               2.000000   \n",
       "50%                             3.000000               3.000000   \n",
       "75%                             4.000000               4.000000   \n",
       "max                            24.000000              32.000000   \n",
       "\n",
       "       Admission_Deposit  \n",
       "count      318438.000000  \n",
       "mean         4880.749392  \n",
       "std          1086.776254  \n",
       "min          1800.000000  \n",
       "25%          4186.000000  \n",
       "50%          4741.000000  \n",
       "75%          5409.000000  \n",
       "max         11008.000000  "
      ]
     },
     "execution_count": 5,
     "metadata": {},
     "output_type": "execute_result"
    }
   ],
   "source": [
    "stay_df.describe()[['Available Extra Rooms in Hospital', 'Visitors with Patient', 'Admission_Deposit']]"
   ]
  },
  {
   "cell_type": "code",
   "execution_count": 6,
   "id": "fb42f2f1",
   "metadata": {},
   "outputs": [
    {
     "data": {
      "text/plain": [
       "case_id                                 0\n",
       "Hospital_code                           0\n",
       "Hospital_type_code                      0\n",
       "City_Code_Hospital                      0\n",
       "Hospital_region_code                    0\n",
       "Available Extra Rooms in Hospital       0\n",
       "Department                              0\n",
       "Ward_Type                               0\n",
       "Ward_Facility_Code                      0\n",
       "Bed Grade                             113\n",
       "patientid                               0\n",
       "City_Code_Patient                    4532\n",
       "Type of Admission                       0\n",
       "Severity of Illness                     0\n",
       "Visitors with Patient                   0\n",
       "Age                                     0\n",
       "Admission_Deposit                       0\n",
       "Stay                                    0\n",
       "dtype: int64"
      ]
     },
     "execution_count": 6,
     "metadata": {},
     "output_type": "execute_result"
    }
   ],
   "source": [
    "stay_df.isna().sum()"
   ]
  },
  {
   "cell_type": "code",
   "execution_count": 7,
   "id": "b6e4b339",
   "metadata": {},
   "outputs": [
    {
     "data": {
      "text/plain": [
       "case_id                                 0\n",
       "Hospital_code                           0\n",
       "Hospital_type_code                      0\n",
       "City_Code_Hospital                      0\n",
       "Hospital_region_code                    0\n",
       "Available Extra Rooms in Hospital       0\n",
       "Department                              0\n",
       "Ward_Type                               0\n",
       "Ward_Facility_Code                      0\n",
       "Bed Grade                              35\n",
       "patientid                               0\n",
       "City_Code_Patient                    2157\n",
       "Type of Admission                       0\n",
       "Severity of Illness                     0\n",
       "Visitors with Patient                   0\n",
       "Age                                     0\n",
       "Admission_Deposit                       0\n",
       "dtype: int64"
      ]
     },
     "execution_count": 7,
     "metadata": {},
     "output_type": "execute_result"
    }
   ],
   "source": [
    "stay_test_df.isna().sum()"
   ]
  },
  {
   "cell_type": "code",
   "execution_count": 8,
   "id": "3b71fecc",
   "metadata": {},
   "outputs": [
    {
     "data": {
      "text/plain": [
       "(Index(['case_id', 'Hospital_code', 'Hospital_type_code', 'City_Code_Hospital',\n",
       "        'Hospital_region_code', 'Available_Extra_Rooms_in_Hospital',\n",
       "        'Department', 'Ward_Type', 'Ward_Facility_Code', 'Bed_Grade',\n",
       "        'patientid', 'City_Code_Patient', 'Type_of_Admission',\n",
       "        'Severity_of_Illness', 'Visitors_with_Patient', 'Age',\n",
       "        'Admission_Deposit', 'Stay'],\n",
       "       dtype='object'),\n",
       " Index(['case_id', 'Hospital_code', 'Hospital_type_code', 'City_Code_Hospital',\n",
       "        'Hospital_region_code', 'Available_Extra_Rooms_in_Hospital',\n",
       "        'Department', 'Ward_Type', 'Ward_Facility_Code', 'Bed_Grade',\n",
       "        'patientid', 'City_Code_Patient', 'Type_of_Admission',\n",
       "        'Severity_of_Illness', 'Visitors_with_Patient', 'Age',\n",
       "        'Admission_Deposit'],\n",
       "       dtype='object'))"
      ]
     },
     "execution_count": 8,
     "metadata": {},
     "output_type": "execute_result"
    }
   ],
   "source": [
    "# Clean up column names first by replacing spaes with underscore\n",
    "\n",
    "[stay_df.rename(columns={name: name.replace(\" \", \"_\")}, inplace= True) for name in stay_df.columns if ' ' in name]\n",
    "\n",
    "[stay_test_df.rename(columns={name: name.replace(\" \", \"_\")}, inplace = True) for name in stay_test_df.columns if ' ' in name]\n",
    "\n",
    "stay_df.columns, stay_test_df.columns"
   ]
  },
  {
   "cell_type": "code",
   "execution_count": 9,
   "id": "17644aca",
   "metadata": {},
   "outputs": [],
   "source": [
    "# Fill missing Bed_Grade\n",
    "\n",
    "stay_df.Bed_Grade.fillna(stay_df.Bed_Grade.mode()[0], inplace=True)\n",
    "\n",
    "stay_test_df.Bed_Grade.fillna(stay_df.Bed_Grade.mode()[0], inplace=True)\n",
    "\n",
    "stay_df.Bed_Grade = stay_df.Bed_Grade.astype('int')\n",
    "stay_test_df.Bed_Grade = stay_test_df.Bed_Grade.astype('int')"
   ]
  },
  {
   "cell_type": "code",
   "execution_count": 10,
   "id": "e1592122",
   "metadata": {},
   "outputs": [],
   "source": [
    "# Fill missing City_Code_Patient with the City_Code_Hospital of the sample\n",
    "\n",
    "stay_df.loc[stay_df.City_Code_Patient.isnull(), 'City_Code_Patient'] = stay_df.City_Code_Hospital.loc[stay_df.City_Code_Patient.isnull()]\n",
    "\n",
    "stay_test_df.loc[stay_test_df.City_Code_Patient.isnull(), 'City_Code_Patient'] = stay_test_df.City_Code_Hospital.loc[stay_test_df.City_Code_Patient.isnull()]\n",
    "\n",
    "stay_df.City_Code_Patient = stay_df.City_Code_Patient.astype('int')\n",
    "stay_test_df.City_Code_Patient = stay_test_df.City_Code_Patient.astype('int')"
   ]
  },
  {
   "cell_type": "code",
   "execution_count": 11,
   "id": "5297d742",
   "metadata": {},
   "outputs": [
    {
     "data": {
      "text/plain": [
       "True"
      ]
     },
     "execution_count": 11,
     "metadata": {},
     "output_type": "execute_result"
    }
   ],
   "source": [
    "stay_df.case_id.nunique() == len(stay_df)"
   ]
  },
  {
   "cell_type": "code",
   "execution_count": 12,
   "id": "b0580b1e",
   "metadata": {
    "scrolled": true
   },
   "outputs": [
    {
     "data": {
      "text/plain": [
       "Index(['case_id', 'Hospital_code', 'Hospital_type_code', 'City_Code_Hospital',\n",
       "       'Hospital_region_code', 'Available_Extra_Rooms_in_Hospital',\n",
       "       'Department', 'Ward_Type', 'Ward_Facility_Code', 'Bed_Grade',\n",
       "       'patientid', 'City_Code_Patient', 'Type_of_Admission',\n",
       "       'Severity_of_Illness', 'Visitors_with_Patient', 'Age',\n",
       "       'Admission_Deposit', 'Stay'],\n",
       "      dtype='object')"
      ]
     },
     "execution_count": 12,
     "metadata": {},
     "output_type": "execute_result"
    }
   ],
   "source": [
    "original_columns = stay_df.columns\n",
    "original_columns"
   ]
  },
  {
   "cell_type": "markdown",
   "id": "5d0a1635",
   "metadata": {},
   "source": [
    "### Split Data\n",
    "\n",
    "Splitting data first to ensure our feature engineering doesn't cause any leakage. "
   ]
  },
  {
   "cell_type": "code",
   "execution_count": 13,
   "id": "7ee962f0",
   "metadata": {},
   "outputs": [],
   "source": [
    "X = stay_df.drop(['Stay', 'case_id'], axis=1)\n",
    "y = stay_df['Stay']\n",
    "\n",
    "\n",
    "\n",
    "X_train, X_test, y_train, y_test = train_test_split(X, y, random_state=86)\n",
    "\n",
    "final_case_ids = stay_test_df['case_id']\n",
    "stay_test_df = stay_test_df.drop('case_id', axis=1)"
   ]
  },
  {
   "cell_type": "markdown",
   "id": "5d29f7e4",
   "metadata": {},
   "source": [
    "## Feature engineering\n",
    "\n",
    "Create a feature counts by hospital of: 'Visitors_with_Patient', 'Age', 'Hospital_code', 'Hospital_type_code', 'City_Code_Hospital', 'Hospital_region_code', 'Department', 'Ward_Type', 'Ward_Facility_Code'\n",
    "\n",
    "\n",
    "For each of: 'Hospital_code', 'Hospital_type_code', 'City_Code_Hospital', 'Hospital_region_code', 'Department', 'Ward_Type', 'Ward_Facility_Code'\n",
    "create a feature for count of:  'Available_Extra_Rooms_in_Hospital', 'Bed_Grade','Severity_of_Illness', 'Visitors_with_Patient'\n",
    "\n",
    "\n",
    "\n",
    "Creats a feature for whether the patient traveled to get to the hospital.\n",
    "\n",
    "### Count Features\n",
    "\n",
    "Impute a count of how many samples have that feature from the train set.\n"
   ]
  },
  {
   "cell_type": "code",
   "execution_count": 14,
   "id": "4df8b851",
   "metadata": {},
   "outputs": [],
   "source": [
    "features_tocount = ['Visitors_with_Patient', 'Age', 'Hospital_code', 'Hospital_type_code', 'City_Code_Hospital', 'Hospital_region_code', 'Department', 'Ward_Type', 'Ward_Facility_Code'] \n",
    "\n",
    "def feature_totals(features, df):\n",
    "    \"\"\"\"\"Takes a Dataframe and a list of features for each feature \n",
    "    it adds a count the feature occurence in the train set to the df\"\"\"\n",
    "    for feature in features:\n",
    "        num_col = len(df.columns)\n",
    "        total = X_train.groupby(feature).size().to_dict()\n",
    "        df['_'.join(['Total', feature, 'Count'])] = df[feature].map(total)\n",
    "        df['_'.join(['Total', feature, 'Count'])].fillna(0, inplace=True)\n",
    "        assert len(df.columns) == (num_col + 1), 'column did not add'\n",
    "    return df\n"
   ]
  },
  {
   "cell_type": "markdown",
   "id": "8ea3f4e8",
   "metadata": {},
   "source": [
    "### Feature by Feature\n",
    "\n",
    "Impute counts of occurrences of a feature by another feature.\n",
    "count of rooms available, bed grade or visitors by location, type or department of the hospital."
   ]
  },
  {
   "cell_type": "code",
   "execution_count": 15,
   "id": "2e6026d1",
   "metadata": {},
   "outputs": [],
   "source": [
    "# define list of features to pass two_feature_countby function\n",
    "hosp_descriptor = ['Hospital_code', 'Hospital_type_code', 'City_Code_Hospital', 'Hospital_region_code', 'Department', 'Ward_Type', 'Ward_Facility_Code']\n",
    "\n",
    "hosp_features = ['Available_Extra_Rooms_in_Hospital', 'Bed_Grade', 'Visitors_with_Patient']"
   ]
  },
  {
   "cell_type": "code",
   "execution_count": 16,
   "id": "0cd86074",
   "metadata": {},
   "outputs": [],
   "source": [
    "def two_feature_countby(to_count, by_name, df):\n",
    "    \"\"\"\"Takes two lists of features and a dataframe, adds new feature to \n",
    "    dataframe that is the count of one feature by the other\"\"\"\n",
    "    \n",
    "    for count_of in to_count:\n",
    "        for count_by in by_name:\n",
    "            num_col = len(df.columns)\n",
    "            count = X_train.groupby([count_of, count_by]).size().reset_index()\n",
    "            count.columns = [count_of, count_by, '_'.join([count_by, 'by', count_of ])]\n",
    "            \n",
    "            df = df.merge(count, how='left', on=[count_of, count_by])\n",
    "            df['_'.join([count_by, 'by', count_of ])].fillna(0, inplace=True)\n",
    "            assert len(df.columns) == (num_col + 1), 'column did not add'\n",
    "            \n",
    "    return df"
   ]
  },
  {
   "cell_type": "markdown",
   "id": "b1f441f2",
   "metadata": {},
   "source": [
    "### Patient Traveled\n",
    "\n",
    "If the patient traveled to get to the hospital it may increase the time needed to recover enough to get home. \n",
    "\n",
    "Create a binary feature with one representing that the patient lives in a different region then the hospital. "
   ]
  },
  {
   "cell_type": "code",
   "execution_count": 17,
   "id": "05975e71",
   "metadata": {},
   "outputs": [],
   "source": [
    "# city_code_hospital values split into list by reagion\n",
    "# if patient 'City_Code_Patient' not in region_list that matches Hospital_region_code\n",
    "#  add 1 for not in, else leave 0\n",
    "\n",
    "z_region = X_train[X_train.Hospital_region_code == 'Z']['City_Code_Hospital'].unique()\n",
    "x_region = X_train[X_train.Hospital_region_code == 'X']['City_Code_Hospital'].unique()\n",
    "y_region = X_train[X_train.Hospital_region_code == 'Y']['City_Code_Hospital'].unique()\n",
    "\n",
    "\n",
    "def define_region_list(hosp_region):\n",
    "    \"\"\"\"\"takes in a samples region and returns region list of city codes in that region\"\"\"\n",
    "    if hosp_region == 'Z':\n",
    "        return z_region\n",
    "    elif hosp_region == 'X':\n",
    "        return x_region\n",
    "    elif hosp_region == 'Y':\n",
    "        return y_region\n",
    "    assert  hosp_region not in ['Z', 'X', 'Y'], 'reagion not machted'\n",
    "    \n",
    "\n",
    "\n",
    "\n",
    "def patiend_travel(df):\n",
    "    \"\"\"\"Takes in a Dataframe, returns list of 1 and 0s for  whether the patient_traveled or not\"\"\"\n",
    "    traveled = []\n",
    "    locations = zip(df['Hospital_region_code'], df['City_Code_Patient'])\n",
    "    for hosp_region, patient_home in locations:\n",
    "        \n",
    "        region_list = define_region_list(hosp_region)\n",
    "        \n",
    "        if patient_home not in region_list:\n",
    "            traveled.append(1)\n",
    "        elif patient_home in region_list:\n",
    "            traveled.append(0)\n",
    "    return traveled"
   ]
  },
  {
   "cell_type": "markdown",
   "id": "defe4697",
   "metadata": {},
   "source": [
    "### Apply Functions to Dataframes \n",
    "By defining all of our new features in functions and a function that applies all the feature functions we only apply changes to the data frame once."
   ]
  },
  {
   "cell_type": "code",
   "execution_count": 18,
   "id": "e0f68a70",
   "metadata": {},
   "outputs": [],
   "source": [
    "def add_features(df):\n",
    "    \"\"\"\"\"Takes in dataframe runs all feature funtions and returns dataframe\"\"\"\n",
    "    samples = len(df)\n",
    "    \n",
    "    df = feature_totals(features_tocount, df)\n",
    "    assert len(df) == samples, 'feature_totals missing samples'\n",
    "    \n",
    "    df = two_feature_countby(hosp_descriptor, hosp_features, df)\n",
    "    #assert len(df) == samples, 'two_feature_countby missing samples'\n",
    "    \n",
    "    df['Patient_traveled'] = patiend_travel(df)\n",
    "    #assert len(df) == samples, 'patiend_travel missing samples'\n",
    "    \n",
    "    return df"
   ]
  },
  {
   "cell_type": "code",
   "execution_count": 19,
   "id": "cbb1c4b6",
   "metadata": {
    "scrolled": true
   },
   "outputs": [
    {
     "name": "stderr",
     "output_type": "stream",
     "text": [
      "<ipython-input-14-8c99918060ca>:9: SettingWithCopyWarning: \n",
      "A value is trying to be set on a copy of a slice from a DataFrame.\n",
      "Try using .loc[row_indexer,col_indexer] = value instead\n",
      "\n",
      "See the caveats in the documentation: https://pandas.pydata.org/pandas-docs/stable/user_guide/indexing.html#returning-a-view-versus-a-copy\n",
      "  df['_'.join(['Total', feature, 'Count'])] = df[feature].map(total)\n",
      "/opt/anaconda3/lib/python3.8/site-packages/pandas/core/series.py:4463: SettingWithCopyWarning: \n",
      "A value is trying to be set on a copy of a slice from a DataFrame\n",
      "\n",
      "See the caveats in the documentation: https://pandas.pydata.org/pandas-docs/stable/user_guide/indexing.html#returning-a-view-versus-a-copy\n",
      "  return super().fillna(\n"
     ]
    }
   ],
   "source": [
    "# add new features to all X datasets\n",
    "X_train = add_features( X_train)\n",
    "X_test = add_features( X_test)\n",
    "final_X_test = add_features(stay_test_df)"
   ]
  },
  {
   "cell_type": "code",
   "execution_count": 20,
   "id": "91a46b15",
   "metadata": {
    "scrolled": true
   },
   "outputs": [
    {
     "data": {
      "text/plain": [
       "31"
      ]
     },
     "execution_count": 20,
     "metadata": {},
     "output_type": "execute_result"
    }
   ],
   "source": [
    "# Save list of new feature names and check all are added\n",
    "new_features = set(X_train.columns) - set(original_columns )\n",
    "len(new_features)"
   ]
  },
  {
   "cell_type": "code",
   "execution_count": 21,
   "id": "b9d9ce84",
   "metadata": {},
   "outputs": [
    {
     "data": {
      "text/html": [
       "<div>\n",
       "<style scoped>\n",
       "    .dataframe tbody tr th:only-of-type {\n",
       "        vertical-align: middle;\n",
       "    }\n",
       "\n",
       "    .dataframe tbody tr th {\n",
       "        vertical-align: top;\n",
       "    }\n",
       "\n",
       "    .dataframe thead th {\n",
       "        text-align: right;\n",
       "    }\n",
       "</style>\n",
       "<table border=\"1\" class=\"dataframe\">\n",
       "  <thead>\n",
       "    <tr style=\"text-align: right;\">\n",
       "      <th></th>\n",
       "      <th>Total_Visitors_with_Patient_Count</th>\n",
       "      <th>Total_Hospital_code_Count</th>\n",
       "      <th>Visitors_with_Patient_by_Department</th>\n",
       "      <th>Bed_Grade_by_Ward_Facility_Code</th>\n",
       "      <th>Visitors_with_Patient_by_Hospital_code</th>\n",
       "      <th>Visitors_with_Patient_by_Hospital_type_code</th>\n",
       "      <th>Bed_Grade_by_City_Code_Hospital</th>\n",
       "      <th>Visitors_with_Patient_by_Hospital_region_code</th>\n",
       "      <th>Visitors_with_Patient_by_City_Code_Hospital</th>\n",
       "      <th>Total_City_Code_Hospital_Count</th>\n",
       "      <th>...</th>\n",
       "      <th>Bed_Grade_by_Hospital_type_code</th>\n",
       "      <th>Bed_Grade_by_Department</th>\n",
       "      <th>Available_Extra_Rooms_in_Hospital_by_Ward_Type</th>\n",
       "      <th>Total_Hospital_type_code_Count</th>\n",
       "      <th>Available_Extra_Rooms_in_Hospital_by_Ward_Facility_Code</th>\n",
       "      <th>Available_Extra_Rooms_in_Hospital_by_Hospital_type_code</th>\n",
       "      <th>Total_Age_Count</th>\n",
       "      <th>Available_Extra_Rooms_in_Hospital_by_Department</th>\n",
       "      <th>Visitors_with_Patient_by_Ward_Type</th>\n",
       "      <th>Total_Hospital_region_code_Count</th>\n",
       "    </tr>\n",
       "  </thead>\n",
       "  <tbody>\n",
       "    <tr>\n",
       "      <th>0</th>\n",
       "      <td>6953</td>\n",
       "      <td>24804</td>\n",
       "      <td>5567</td>\n",
       "      <td>15199</td>\n",
       "      <td>776</td>\n",
       "      <td>1628</td>\n",
       "      <td>15199</td>\n",
       "      <td>2401</td>\n",
       "      <td>1036</td>\n",
       "      <td>38869</td>\n",
       "      <td>...</td>\n",
       "      <td>19986</td>\n",
       "      <td>76163</td>\n",
       "      <td>34668</td>\n",
       "      <td>51778</td>\n",
       "      <td>10418</td>\n",
       "      <td>14997</td>\n",
       "      <td>26867</td>\n",
       "      <td>55358</td>\n",
       "      <td>3794</td>\n",
       "      <td>91893</td>\n",
       "    </tr>\n",
       "    <tr>\n",
       "      <th>1</th>\n",
       "      <td>103651</td>\n",
       "      <td>24804</td>\n",
       "      <td>78220</td>\n",
       "      <td>13208</td>\n",
       "      <td>11076</td>\n",
       "      <td>22502</td>\n",
       "      <td>13208</td>\n",
       "      <td>38930</td>\n",
       "      <td>16746</td>\n",
       "      <td>38869</td>\n",
       "      <td>...</td>\n",
       "      <td>17990</td>\n",
       "      <td>62493</td>\n",
       "      <td>33259</td>\n",
       "      <td>51778</td>\n",
       "      <td>12002</td>\n",
       "      <td>15572</td>\n",
       "      <td>36259</td>\n",
       "      <td>57491</td>\n",
       "      <td>25667</td>\n",
       "      <td>91893</td>\n",
       "    </tr>\n",
       "    <tr>\n",
       "      <th>2</th>\n",
       "      <td>14153</td>\n",
       "      <td>5350</td>\n",
       "      <td>10889</td>\n",
       "      <td>7161</td>\n",
       "      <td>301</td>\n",
       "      <td>1822</td>\n",
       "      <td>7969</td>\n",
       "      <td>2575</td>\n",
       "      <td>1169</td>\n",
       "      <td>23661</td>\n",
       "      <td>...</td>\n",
       "      <td>11779</td>\n",
       "      <td>62493</td>\n",
       "      <td>34668</td>\n",
       "      <td>34477</td>\n",
       "      <td>5893</td>\n",
       "      <td>9480</td>\n",
       "      <td>47844</td>\n",
       "      <td>55358</td>\n",
       "      <td>6620</td>\n",
       "      <td>47067</td>\n",
       "    </tr>\n",
       "    <tr>\n",
       "      <th>3</th>\n",
       "      <td>103651</td>\n",
       "      <td>6140</td>\n",
       "      <td>9601</td>\n",
       "      <td>3971</td>\n",
       "      <td>2984</td>\n",
       "      <td>15990</td>\n",
       "      <td>4475</td>\n",
       "      <td>21461</td>\n",
       "      <td>11179</td>\n",
       "      <td>23661</td>\n",
       "      <td>...</td>\n",
       "      <td>6620</td>\n",
       "      <td>3915</td>\n",
       "      <td>2254</td>\n",
       "      <td>34477</td>\n",
       "      <td>441</td>\n",
       "      <td>685</td>\n",
       "      <td>5856</td>\n",
       "      <td>528</td>\n",
       "      <td>29789</td>\n",
       "      <td>47067</td>\n",
       "    </tr>\n",
       "    <tr>\n",
       "      <th>4</th>\n",
       "      <td>103651</td>\n",
       "      <td>24804</td>\n",
       "      <td>12653</td>\n",
       "      <td>7411</td>\n",
       "      <td>11076</td>\n",
       "      <td>22502</td>\n",
       "      <td>7411</td>\n",
       "      <td>38930</td>\n",
       "      <td>16746</td>\n",
       "      <td>38869</td>\n",
       "      <td>...</td>\n",
       "      <td>10155</td>\n",
       "      <td>6154</td>\n",
       "      <td>15247</td>\n",
       "      <td>51778</td>\n",
       "      <td>10418</td>\n",
       "      <td>14997</td>\n",
       "      <td>47844</td>\n",
       "      <td>5625</td>\n",
       "      <td>29789</td>\n",
       "      <td>91893</td>\n",
       "    </tr>\n",
       "  </tbody>\n",
       "</table>\n",
       "<p>5 rows × 31 columns</p>\n",
       "</div>"
      ],
      "text/plain": [
       "   Total_Visitors_with_Patient_Count  Total_Hospital_code_Count  \\\n",
       "0                               6953                      24804   \n",
       "1                             103651                      24804   \n",
       "2                              14153                       5350   \n",
       "3                             103651                       6140   \n",
       "4                             103651                      24804   \n",
       "\n",
       "   Visitors_with_Patient_by_Department  Bed_Grade_by_Ward_Facility_Code  \\\n",
       "0                                 5567                            15199   \n",
       "1                                78220                            13208   \n",
       "2                                10889                             7161   \n",
       "3                                 9601                             3971   \n",
       "4                                12653                             7411   \n",
       "\n",
       "   Visitors_with_Patient_by_Hospital_code  \\\n",
       "0                                     776   \n",
       "1                                   11076   \n",
       "2                                     301   \n",
       "3                                    2984   \n",
       "4                                   11076   \n",
       "\n",
       "   Visitors_with_Patient_by_Hospital_type_code  \\\n",
       "0                                         1628   \n",
       "1                                        22502   \n",
       "2                                         1822   \n",
       "3                                        15990   \n",
       "4                                        22502   \n",
       "\n",
       "   Bed_Grade_by_City_Code_Hospital  \\\n",
       "0                            15199   \n",
       "1                            13208   \n",
       "2                             7969   \n",
       "3                             4475   \n",
       "4                             7411   \n",
       "\n",
       "   Visitors_with_Patient_by_Hospital_region_code  \\\n",
       "0                                           2401   \n",
       "1                                          38930   \n",
       "2                                           2575   \n",
       "3                                          21461   \n",
       "4                                          38930   \n",
       "\n",
       "   Visitors_with_Patient_by_City_Code_Hospital  \\\n",
       "0                                         1036   \n",
       "1                                        16746   \n",
       "2                                         1169   \n",
       "3                                        11179   \n",
       "4                                        16746   \n",
       "\n",
       "   Total_City_Code_Hospital_Count  ...  Bed_Grade_by_Hospital_type_code  \\\n",
       "0                           38869  ...                            19986   \n",
       "1                           38869  ...                            17990   \n",
       "2                           23661  ...                            11779   \n",
       "3                           23661  ...                             6620   \n",
       "4                           38869  ...                            10155   \n",
       "\n",
       "   Bed_Grade_by_Department  Available_Extra_Rooms_in_Hospital_by_Ward_Type  \\\n",
       "0                    76163                                           34668   \n",
       "1                    62493                                           33259   \n",
       "2                    62493                                           34668   \n",
       "3                     3915                                            2254   \n",
       "4                     6154                                           15247   \n",
       "\n",
       "   Total_Hospital_type_code_Count  \\\n",
       "0                           51778   \n",
       "1                           51778   \n",
       "2                           34477   \n",
       "3                           34477   \n",
       "4                           51778   \n",
       "\n",
       "   Available_Extra_Rooms_in_Hospital_by_Ward_Facility_Code  \\\n",
       "0                                              10418         \n",
       "1                                              12002         \n",
       "2                                               5893         \n",
       "3                                                441         \n",
       "4                                              10418         \n",
       "\n",
       "   Available_Extra_Rooms_in_Hospital_by_Hospital_type_code  Total_Age_Count  \\\n",
       "0                                              14997                  26867   \n",
       "1                                              15572                  36259   \n",
       "2                                               9480                  47844   \n",
       "3                                                685                   5856   \n",
       "4                                              14997                  47844   \n",
       "\n",
       "   Available_Extra_Rooms_in_Hospital_by_Department  \\\n",
       "0                                            55358   \n",
       "1                                            57491   \n",
       "2                                            55358   \n",
       "3                                              528   \n",
       "4                                             5625   \n",
       "\n",
       "   Visitors_with_Patient_by_Ward_Type  Total_Hospital_region_code_Count  \n",
       "0                                3794                             91893  \n",
       "1                               25667                             91893  \n",
       "2                                6620                             47067  \n",
       "3                               29789                             47067  \n",
       "4                               29789                             91893  \n",
       "\n",
       "[5 rows x 31 columns]"
      ]
     },
     "execution_count": 21,
     "metadata": {},
     "output_type": "execute_result"
    }
   ],
   "source": [
    "# Check new features\n",
    "X_train[new_features].head()"
   ]
  },
  {
   "cell_type": "code",
   "execution_count": 22,
   "id": "562e738e",
   "metadata": {
    "scrolled": true
   },
   "outputs": [
    {
     "name": "stdout",
     "output_type": "stream",
     "text": [
      "<class 'pandas.core.frame.DataFrame'>\n",
      "Int64Index: 238828 entries, 0 to 238827\n",
      "Data columns (total 8 columns):\n",
      " #   Column                Non-Null Count   Dtype \n",
      "---  ------                --------------   ----- \n",
      " 0   Hospital_type_code    238828 non-null  object\n",
      " 1   Hospital_region_code  238828 non-null  object\n",
      " 2   Department            238828 non-null  object\n",
      " 3   Ward_Type             238828 non-null  object\n",
      " 4   Ward_Facility_Code    238828 non-null  object\n",
      " 5   Type_of_Admission     238828 non-null  object\n",
      " 6   Severity_of_Illness   238828 non-null  object\n",
      " 7   Age                   238828 non-null  object\n",
      "dtypes: object(8)\n",
      "memory usage: 16.4+ MB\n"
     ]
    }
   ],
   "source": [
    "# Catagorical features\n",
    "X_train.select_dtypes(exclude=[np.number]).info()"
   ]
  },
  {
   "cell_type": "code",
   "execution_count": 23,
   "id": "e768a68d",
   "metadata": {},
   "outputs": [
    {
     "name": "stdout",
     "output_type": "stream",
     "text": [
      "<class 'pandas.core.frame.DataFrame'>\n",
      "Int64Index: 238828 entries, 0 to 238827\n",
      "Data columns (total 47 columns):\n",
      " #   Column                                                     Non-Null Count   Dtype  \n",
      "---  ------                                                     --------------   -----  \n",
      " 0   Hospital_code                                              238828 non-null  int64  \n",
      " 1   Hospital_type_code                                         238828 non-null  object \n",
      " 2   City_Code_Hospital                                         238828 non-null  int64  \n",
      " 3   Hospital_region_code                                       238828 non-null  object \n",
      " 4   Available_Extra_Rooms_in_Hospital                          238828 non-null  int64  \n",
      " 5   Department                                                 238828 non-null  object \n",
      " 6   Ward_Type                                                  238828 non-null  object \n",
      " 7   Ward_Facility_Code                                         238828 non-null  object \n",
      " 8   Bed_Grade                                                  238828 non-null  int64  \n",
      " 9   patientid                                                  238828 non-null  int64  \n",
      " 10  City_Code_Patient                                          238828 non-null  int64  \n",
      " 11  Type_of_Admission                                          238828 non-null  object \n",
      " 12  Severity_of_Illness                                        238828 non-null  object \n",
      " 13  Visitors_with_Patient                                      238828 non-null  int64  \n",
      " 14  Age                                                        238828 non-null  object \n",
      " 15  Admission_Deposit                                          238828 non-null  float64\n",
      " 16  Total_Visitors_with_Patient_Count                          238828 non-null  int64  \n",
      " 17  Total_Age_Count                                            238828 non-null  int64  \n",
      " 18  Total_Hospital_code_Count                                  238828 non-null  int64  \n",
      " 19  Total_Hospital_type_code_Count                             238828 non-null  int64  \n",
      " 20  Total_City_Code_Hospital_Count                             238828 non-null  int64  \n",
      " 21  Total_Hospital_region_code_Count                           238828 non-null  int64  \n",
      " 22  Total_Department_Count                                     238828 non-null  int64  \n",
      " 23  Total_Ward_Type_Count                                      238828 non-null  int64  \n",
      " 24  Total_Ward_Facility_Code_Count                             238828 non-null  int64  \n",
      " 25  Available_Extra_Rooms_in_Hospital_by_Hospital_code         238828 non-null  int64  \n",
      " 26  Bed_Grade_by_Hospital_code                                 238828 non-null  int64  \n",
      " 27  Visitors_with_Patient_by_Hospital_code                     238828 non-null  int64  \n",
      " 28  Available_Extra_Rooms_in_Hospital_by_Hospital_type_code    238828 non-null  int64  \n",
      " 29  Bed_Grade_by_Hospital_type_code                            238828 non-null  int64  \n",
      " 30  Visitors_with_Patient_by_Hospital_type_code                238828 non-null  int64  \n",
      " 31  Available_Extra_Rooms_in_Hospital_by_City_Code_Hospital    238828 non-null  int64  \n",
      " 32  Bed_Grade_by_City_Code_Hospital                            238828 non-null  int64  \n",
      " 33  Visitors_with_Patient_by_City_Code_Hospital                238828 non-null  int64  \n",
      " 34  Available_Extra_Rooms_in_Hospital_by_Hospital_region_code  238828 non-null  int64  \n",
      " 35  Bed_Grade_by_Hospital_region_code                          238828 non-null  int64  \n",
      " 36  Visitors_with_Patient_by_Hospital_region_code              238828 non-null  int64  \n",
      " 37  Available_Extra_Rooms_in_Hospital_by_Department            238828 non-null  int64  \n",
      " 38  Bed_Grade_by_Department                                    238828 non-null  int64  \n",
      " 39  Visitors_with_Patient_by_Department                        238828 non-null  int64  \n",
      " 40  Available_Extra_Rooms_in_Hospital_by_Ward_Type             238828 non-null  int64  \n",
      " 41  Bed_Grade_by_Ward_Type                                     238828 non-null  int64  \n",
      " 42  Visitors_with_Patient_by_Ward_Type                         238828 non-null  int64  \n",
      " 43  Available_Extra_Rooms_in_Hospital_by_Ward_Facility_Code    238828 non-null  int64  \n",
      " 44  Bed_Grade_by_Ward_Facility_Code                            238828 non-null  int64  \n",
      " 45  Visitors_with_Patient_by_Ward_Facility_Code                238828 non-null  int64  \n",
      " 46  Patient_traveled                                           238828 non-null  int64  \n",
      "dtypes: float64(1), int64(38), object(8)\n",
      "memory usage: 87.5+ MB\n"
     ]
    }
   ],
   "source": [
    "X_train.info()"
   ]
  },
  {
   "cell_type": "markdown",
   "id": "f91583f3",
   "metadata": {},
   "source": [
    "## Preprocessing and Modeling\n",
    "\n",
    "Since the original dataset only had 3 quantitative features Random Forest is a great model to start with. Random Forest requires the least preprocessing and handles categorical features well. Independent features are used for decision boundaries so scaling shouldn't affect it. If we pursue other models then we will pipeline the standard scaler with a list of numeric features. \n",
    "\n",
    "For consistency if we use other models we will one hot encode the categorical features. The target variable also need to be encoded for the classification. \n"
   ]
  },
  {
   "cell_type": "markdown",
   "id": "b100ac49",
   "metadata": {},
   "source": [
    "### One Hot Encode\n"
   ]
  },
  {
   "cell_type": "code",
   "execution_count": 24,
   "id": "7549b0d7",
   "metadata": {},
   "outputs": [],
   "source": [
    "X_train = pd.get_dummies(X_train, prefix=['Hospital_type_code', 'Hospital_region_code', 'Department', 'Ward_Type', 'Ward_Facility_Code', 'Type_of_Admission', 'Severity_of_Illness', 'Age'])\n",
    "X_test = pd.get_dummies(X_test, prefix=['Hospital_type_code', 'Hospital_region_code', 'Department', 'Ward_Type', 'Ward_Facility_Code', 'Type_of_Admission', 'Severity_of_Illness', 'Age'])\n",
    "final_X_test = pd.get_dummies(final_X_test, prefix=['Hospital_type_code', 'Hospital_region_code', 'Department', 'Ward_Type', 'Ward_Facility_Code', 'Type_of_Admission', 'Severity_of_Illness', 'Age'])"
   ]
  },
  {
   "cell_type": "markdown",
   "id": "2595ac9a",
   "metadata": {},
   "source": [
    "### Encode Labels"
   ]
  },
  {
   "cell_type": "code",
   "execution_count": 25,
   "id": "20f43cb5",
   "metadata": {
    "scrolled": true
   },
   "outputs": [
    {
     "data": {
      "text/plain": [
       "((79610,), (79610, 82))"
      ]
     },
     "execution_count": 25,
     "metadata": {},
     "output_type": "execute_result"
    }
   ],
   "source": [
    "label = LabelEncoder()\n",
    "label.fit(y_train)\n",
    "label.transform(y_train)\n",
    "label.transform(y_test)\n",
    "y_test.shape, X_test.shape"
   ]
  },
  {
   "cell_type": "code",
   "execution_count": 26,
   "id": "144ad90f",
   "metadata": {},
   "outputs": [
    {
     "data": {
      "text/plain": [
       "((238828, 82), (238828,))"
      ]
     },
     "execution_count": 26,
     "metadata": {},
     "output_type": "execute_result"
    }
   ],
   "source": [
    "X_train.shape, y_train.shape"
   ]
  },
  {
   "cell_type": "code",
   "execution_count": 27,
   "id": "7b4ece2a",
   "metadata": {},
   "outputs": [],
   "source": [
    "#pd.options.display.max_rows = 100\n"
   ]
  },
  {
   "cell_type": "markdown",
   "id": "4a72f27e",
   "metadata": {},
   "source": [
    "### Random Forest Model"
   ]
  },
  {
   "cell_type": "code",
   "execution_count": 28,
   "id": "e1978c8a",
   "metadata": {},
   "outputs": [],
   "source": [
    "RF = RandomForestClassifier(random_state=86)\n",
    "\n",
    "\n",
    "RF.fit(X_train, y_train)\n",
    "rf_pred = RF.predict(X_test)\n"
   ]
  },
  {
   "cell_type": "code",
   "execution_count": 29,
   "id": "8b8c1998",
   "metadata": {
    "scrolled": true
   },
   "outputs": [
    {
     "name": "stdout",
     "output_type": "stream",
     "text": [
      "                    precision    recall  f1-score   support\n",
      "\n",
      "              0-10       0.29      0.17      0.22      5912\n",
      "             11-20       0.38      0.44      0.41     19349\n",
      "             21-30       0.42      0.53      0.47     22041\n",
      "             31-40       0.33      0.27      0.30     13734\n",
      "             41-50       0.08      0.02      0.04      2933\n",
      "             51-60       0.41      0.45      0.43      8752\n",
      "             61-70       0.15      0.03      0.05       721\n",
      "             71-80       0.29      0.12      0.17      2526\n",
      "             81-90       0.41      0.29      0.34      1220\n",
      "            91-100       0.38      0.10      0.16       719\n",
      "More than 100 Days       0.56      0.49      0.52      1703\n",
      "\n",
      "          accuracy                           0.38     79610\n",
      "         macro avg       0.34      0.27      0.28     79610\n",
      "      weighted avg       0.37      0.38      0.37     79610\n",
      "\n"
     ]
    }
   ],
   "source": [
    "print(classification_report(y_test, rf_pred))"
   ]
  },
  {
   "cell_type": "markdown",
   "id": "da7186bd",
   "metadata": {},
   "source": [
    "### Tune Hyperparameters\n",
    "\n",
    "Using randomized search allows us to search a large range for the best parameters, but run less models then grid search would.  "
   ]
  },
  {
   "cell_type": "code",
   "execution_count": 30,
   "id": "43eaaff8",
   "metadata": {
    "scrolled": false
   },
   "outputs": [
    {
     "data": {
      "text/plain": [
       "{'bootstrap': True,\n",
       " 'ccp_alpha': 0.0,\n",
       " 'class_weight': None,\n",
       " 'criterion': 'gini',\n",
       " 'max_depth': None,\n",
       " 'max_features': 'auto',\n",
       " 'max_leaf_nodes': None,\n",
       " 'max_samples': None,\n",
       " 'min_impurity_decrease': 0.0,\n",
       " 'min_impurity_split': None,\n",
       " 'min_samples_leaf': 1,\n",
       " 'min_samples_split': 2,\n",
       " 'min_weight_fraction_leaf': 0.0,\n",
       " 'n_estimators': 100,\n",
       " 'n_jobs': None,\n",
       " 'oob_score': False,\n",
       " 'random_state': 86,\n",
       " 'verbose': 0,\n",
       " 'warm_start': False}"
      ]
     },
     "execution_count": 30,
     "metadata": {},
     "output_type": "execute_result"
    }
   ],
   "source": [
    "RF.get_params()"
   ]
  },
  {
   "cell_type": "code",
   "execution_count": 31,
   "id": "4ba24086",
   "metadata": {},
   "outputs": [],
   "source": [
    "RFC_params = {'n_estimators': [200, 400, 600, 800, 1000, 1200],\n",
    "              'max_features': ['auto', 'log2'],\n",
    "              'max_depth': [10, 20, 30, 40, 50, 60, 70,  None],\n",
    "              'min_samples_split': [2, 5, 10, 15, 20],\n",
    "              'min_samples_leaf': [1, 2, 5, 10, 15]\n",
    "             }\n",
    "RF = RandomForestClassifier(random_state=86)\n",
    "RFGS = RandomizedSearchCV(RF, RFC_params, random_state=86)"
   ]
  },
  {
   "cell_type": "code",
   "execution_count": null,
   "id": "67d138e3",
   "metadata": {},
   "outputs": [],
   "source": [
    "RFGS.fit(X_train, y_train)\n",
    "RFGS.best_params_"
   ]
  },
  {
   "cell_type": "code",
   "execution_count": 32,
   "id": "38023f3f",
   "metadata": {
    "scrolled": false
   },
   "outputs": [
    {
     "name": "stderr",
     "output_type": "stream",
     "text": [
      "/opt/anaconda3/lib/python3.8/site-packages/sklearn/metrics/_classification.py:1245: UndefinedMetricWarning: Precision and F-score are ill-defined and being set to 0.0 in labels with no predicted samples. Use `zero_division` parameter to control this behavior.\n",
      "  _warn_prf(average, modifier, msg_start, len(result))\n",
      "/opt/anaconda3/lib/python3.8/site-packages/sklearn/metrics/_classification.py:1245: UndefinedMetricWarning: Precision and F-score are ill-defined and being set to 0.0 in labels with no predicted samples. Use `zero_division` parameter to control this behavior.\n",
      "  _warn_prf(average, modifier, msg_start, len(result))\n"
     ]
    },
    {
     "name": "stdout",
     "output_type": "stream",
     "text": [
      "                    precision    recall  f1-score   support\n",
      "\n",
      "              0-10       0.45      0.11      0.18      5912\n",
      "             11-20       0.41      0.50      0.45     19349\n",
      "             21-30       0.42      0.66      0.52     22041\n",
      "             31-40       0.42      0.24      0.30     13734\n",
      "             41-50       0.00      0.00      0.00      2933\n",
      "             51-60       0.41      0.50      0.45      8752\n",
      "             61-70       0.00      0.00      0.00       721\n",
      "             71-80       0.43      0.01      0.03      2526\n",
      "             81-90       0.41      0.22      0.28      1220\n",
      "            91-100       0.36      0.01      0.01       719\n",
      "More than 100 Days       0.54      0.45      0.49      1703\n",
      "\n",
      "          accuracy                           0.42     79610\n",
      "         macro avg       0.35      0.25      0.25     79610\n",
      "      weighted avg       0.40      0.42      0.38     79610\n",
      "\n"
     ]
    },
    {
     "name": "stderr",
     "output_type": "stream",
     "text": [
      "/opt/anaconda3/lib/python3.8/site-packages/sklearn/metrics/_classification.py:1245: UndefinedMetricWarning: Precision and F-score are ill-defined and being set to 0.0 in labels with no predicted samples. Use `zero_division` parameter to control this behavior.\n",
      "  _warn_prf(average, modifier, msg_start, len(result))\n"
     ]
    }
   ],
   "source": [
    "RF2 = RandomForestClassifier(random_state=86, n_jobs= 2, n_estimators = 1000, \n",
    "                             min_samples_split = 5, min_samples_leaf = 10, \n",
    "                             max_features = 'auto', max_depth= 40)\n",
    "\n",
    "RF2.fit(X_train, y_train)\n",
    "rf_pred2 = RF2.predict(X_test)\n",
    "print(classification_report(y_test, rf_pred2))"
   ]
  },
  {
   "cell_type": "code",
   "execution_count": 33,
   "id": "d89cbb0b",
   "metadata": {},
   "outputs": [
    {
     "name": "stdout",
     "output_type": "stream",
     "text": [
      "Train Accuracy: 0.5292009312140955 , Test Accuracy 0.4210275091068961\n"
     ]
    }
   ],
   "source": [
    "\n",
    "print('Train Accuracy:', RF2.score(X_train, y_train), ', Test Accuracy', RF2.score(X_test, y_test))"
   ]
  },
  {
   "cell_type": "markdown",
   "id": "a62ca678",
   "metadata": {},
   "source": [
    "The model is within expectations based on the hackathon leaderboard. We noted in our EDA that some of the classes would be difficult for a model to predict and find the Random Forest model has is not predicting any for the classes 41-50, 61-70, and scores low on the 91-100 class predition. The classes of More than 100 Days, 0-10, and 71-80 are predicted more frequently with higher precision but also many false positives. The model's score on the train set indicates it it not learning enough from the data to make strong predictions on the 10-day range classes. \n",
    "\n",
    "The goal is for Hospitals to have an idea how long to plan care for a patient if the model is only prediction one range off then we may still have a good indication withing 20 days."
   ]
  },
  {
   "cell_type": "code",
   "execution_count": 34,
   "id": "be30c9dd",
   "metadata": {},
   "outputs": [
    {
     "name": "stdout",
     "output_type": "stream",
     "text": [
      "69.65456600929531 % of the predictions are within 20 days of the actual length of hospitalization\n"
     ]
    }
   ],
   "source": [
    "# check if predictions are within one class range off\n",
    "stay_range = {'0-10':['0-10', '11-20'], '11-20': ['0-10', '11-20', '21-30'], \n",
    "              '21-30':['11-20', '21-30', '31-40'], '31-40':['21-30', '31-40', '41-50'], \n",
    "              '41-50':['31-40', '41-50', '51-60'], '51-60':['41-50', '51-60', '61-70'], \n",
    "              '61-70':['51-60', '61-70', '71-80'], '71-80':['61-70', '71-80', '81-90'],\n",
    "              '81-90':['71-80', '81-90', '91-100'], '91-100':['81-90', '91-100', 'More than 100 Days'], \n",
    "              'More than 100 Days':['91-100', 'More than 100 Days']}\n",
    "\n",
    "# if rf_pred2 not in list of y_test key add 1\n",
    "over20off =0\n",
    "\n",
    "ys = zip(y_test, rf_pred)\n",
    "\n",
    "for ay, py in ys:\n",
    "    if py not in stay_range[ay]:\n",
    "        over20off += 1\n",
    "\n",
    "print(((len(y_test) - over20off) / len(y_test)) *100, '% of the predictions are within 20 days of the actual length of hospitalization')"
   ]
  },
  {
   "cell_type": "code",
   "execution_count": 35,
   "id": "5adc2777",
   "metadata": {
    "scrolled": true
   },
   "outputs": [],
   "source": [
    "# make predictions on final test set\n",
    "rf_pred2_final = RF2.predict(final_X_test)\n",
    "\n"
   ]
  },
  {
   "cell_type": "code",
   "execution_count": 36,
   "id": "c892e6a0",
   "metadata": {},
   "outputs": [
    {
     "data": {
      "text/html": [
       "<div>\n",
       "<style scoped>\n",
       "    .dataframe tbody tr th:only-of-type {\n",
       "        vertical-align: middle;\n",
       "    }\n",
       "\n",
       "    .dataframe tbody tr th {\n",
       "        vertical-align: top;\n",
       "    }\n",
       "\n",
       "    .dataframe thead th {\n",
       "        text-align: right;\n",
       "    }\n",
       "</style>\n",
       "<table border=\"1\" class=\"dataframe\">\n",
       "  <thead>\n",
       "    <tr style=\"text-align: right;\">\n",
       "      <th></th>\n",
       "      <th>case_id</th>\n",
       "      <th>Stay</th>\n",
       "    </tr>\n",
       "  </thead>\n",
       "  <tbody>\n",
       "    <tr>\n",
       "      <th>0</th>\n",
       "      <td>318439</td>\n",
       "      <td>0-10</td>\n",
       "    </tr>\n",
       "    <tr>\n",
       "      <th>1</th>\n",
       "      <td>318440</td>\n",
       "      <td>51-60</td>\n",
       "    </tr>\n",
       "    <tr>\n",
       "      <th>2</th>\n",
       "      <td>318441</td>\n",
       "      <td>21-30</td>\n",
       "    </tr>\n",
       "    <tr>\n",
       "      <th>3</th>\n",
       "      <td>318442</td>\n",
       "      <td>21-30</td>\n",
       "    </tr>\n",
       "    <tr>\n",
       "      <th>4</th>\n",
       "      <td>318443</td>\n",
       "      <td>51-60</td>\n",
       "    </tr>\n",
       "    <tr>\n",
       "      <th>...</th>\n",
       "      <td>...</td>\n",
       "      <td>...</td>\n",
       "    </tr>\n",
       "    <tr>\n",
       "      <th>137052</th>\n",
       "      <td>455491</td>\n",
       "      <td>21-30</td>\n",
       "    </tr>\n",
       "    <tr>\n",
       "      <th>137053</th>\n",
       "      <td>455492</td>\n",
       "      <td>0-10</td>\n",
       "    </tr>\n",
       "    <tr>\n",
       "      <th>137054</th>\n",
       "      <td>455493</td>\n",
       "      <td>21-30</td>\n",
       "    </tr>\n",
       "    <tr>\n",
       "      <th>137055</th>\n",
       "      <td>455494</td>\n",
       "      <td>11-20</td>\n",
       "    </tr>\n",
       "    <tr>\n",
       "      <th>137056</th>\n",
       "      <td>455495</td>\n",
       "      <td>51-60</td>\n",
       "    </tr>\n",
       "  </tbody>\n",
       "</table>\n",
       "<p>137057 rows × 2 columns</p>\n",
       "</div>"
      ],
      "text/plain": [
       "        case_id   Stay\n",
       "0        318439   0-10\n",
       "1        318440  51-60\n",
       "2        318441  21-30\n",
       "3        318442  21-30\n",
       "4        318443  51-60\n",
       "...         ...    ...\n",
       "137052   455491  21-30\n",
       "137053   455492   0-10\n",
       "137054   455493  21-30\n",
       "137055   455494  11-20\n",
       "137056   455495  51-60\n",
       "\n",
       "[137057 rows x 2 columns]"
      ]
     },
     "execution_count": 36,
     "metadata": {},
     "output_type": "execute_result"
    }
   ],
   "source": [
    "# prepare final predictions to be submited\n",
    "rf_submission = pd.DataFrame({'case_id': final_case_ids, 'Stay': rf_pred2_final})\n",
    "\n",
    "\n",
    "rf_submission"
   ]
  },
  {
   "cell_type": "code",
   "execution_count": null,
   "id": "2349ac08",
   "metadata": {},
   "outputs": [],
   "source": [
    "#rf_submission.to_csv('data/rf_submission.csv', index =False)"
   ]
  },
  {
   "cell_type": "markdown",
   "id": "f7c28fb6",
   "metadata": {},
   "source": [
    "This submission receives public accuracy score of: 42.0013863047682\n",
    "and a private accuracy score of: 41.7048701890922\n",
    "If the contest was still going it would be submission rank 266 of 19638 placing in the top 1.5% of all recorded submissions.\n",
    "\n",
    "While the model accuracy on 10 day ranges has room for improvement, a 20 day error is a decent ballpark. Hospitals can plan more off a 11-30 day vs 71-90 day window."
   ]
  },
  {
   "cell_type": "code",
   "execution_count": null,
   "id": "f2121691",
   "metadata": {},
   "outputs": [],
   "source": []
  }
 ],
 "metadata": {
  "kernelspec": {
   "display_name": "Python 3",
   "language": "python",
   "name": "python3"
  },
  "language_info": {
   "codemirror_mode": {
    "name": "ipython",
    "version": 3
   },
   "file_extension": ".py",
   "mimetype": "text/x-python",
   "name": "python",
   "nbconvert_exporter": "python",
   "pygments_lexer": "ipython3",
   "version": "3.8.8"
  }
 },
 "nbformat": 4,
 "nbformat_minor": 5
}
